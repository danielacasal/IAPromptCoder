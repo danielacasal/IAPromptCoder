{
 "cells": [
  {
   "cell_type": "markdown",
   "id": "6a31e6fb-8a30-432a-9926-e6a5f6846a9a",
   "metadata": {},
   "source": [
    "# Introducción\n"
   ]
  },
  {
   "cell_type": "markdown",
   "id": "7ff6438b-318c-4278-a83e-bf1ce0f36f17",
   "metadata": {},
   "source": [
    "## - Nombre del proyecto: Identificador de emociones negativas basicas"
   ]
  },
  {
   "cell_type": "markdown",
   "id": "ca7c9c66-7354-4b84-8cb3-74c158e9df96",
   "metadata": {},
   "source": [
    "## - Presentación del problema a abordar\n",
    "El problema que aborda esta propuesta es que las personas en general tienen problemas para abordar y gestionar sus emociones porque desde un inicio no saben reconocerlas. La idea es que, si pueden identificarlas, pueden iniciar un camino hacia afrontar su situacion y mejorar.\n",
    "Las emociones negativas basicas son asco, tristeza, ira, y miedo."
   ]
  },
  {
   "cell_type": "markdown",
   "id": "a8ffc7b0-4009-48ca-9b79-1d4160b00342",
   "metadata": {},
   "source": [
    "\n",
    "## - Desarrollo de la propuesta de solución\n",
    "El problema que aborda esta propuesta es que las personas en general tienen problemas para abordar y gestionar sus emociones porque desde un inicio no saben reconocerlas. La idea es que, si pueden identificarlas, pueden iniciar un camino hacia afrontar su situacion y mejorar.\n",
    "Las emociones negativas basicas son asco, tristeza, ira, y miedo.\n"
   ]
  },
  {
   "cell_type": "markdown",
   "id": "e416de0e-8f70-41aa-9f75-4c493d0545ea",
   "metadata": {},
   "source": [
    "## - Justificación de la viabilidad del proyecto\n",
    "El proyecto es técnicamente viable debido a la disponibilidad de herramientas y recursos para el desarrollo de modelos de IA, como bibliotecas de NLP y frameworks de aprendizaje automático. Ademas, se puede conseguir bases de datos en internet o fabricar una manualmente de forma sencilla."
   ]
  },
  {
   "cell_type": "markdown",
   "id": "9fbd9607-606f-4da6-aa3b-9efccc22334e",
   "metadata": {},
   "source": [
    "# Objetivos: \n",
    "1. Identificar emociones negativas básicas.\n",
    "2. Lograr que el sistema pueda identificar con precisión las emociones negativas básicas como asco, tristeza, ira y miedo en el texto del usuario."
   ]
  },
  {
   "cell_type": "markdown",
   "id": "3c78f76e-5e96-4ee4-a624-1e3ba8b5032e",
   "metadata": {},
   "source": [
    "# Metodología:\n",
    "Introducir prompts en chatgpt y evaluar su rendimiento en tiempo real. Realizar ajustes adicionales según los comentarios y resultados obtenidos."
   ]
  },
  {
   "cell_type": "markdown",
   "id": "f8c0fc9c-deab-4574-a044-6c303ff8e8b3",
   "metadata": {},
   "source": [
    "# Herramientas y tecnologías\n",
    "Se utilizara jupyer notebook y la API de OpenAI\n"
   ]
  },
  {
   "cell_type": "markdown",
   "id": "f933a085-7b84-4dea-88d4-b4d16b33a6e3",
   "metadata": {},
   "source": [
    "# Implementación"
   ]
  },
  {
   "cell_type": "code",
   "execution_count": 4,
   "id": "621e9838-1da6-4e70-aec2-5da0056cc56f",
   "metadata": {},
   "outputs": [],
   "source": [
    "import openai\n",
    "import os"
   ]
  },
  {
   "cell_type": "code",
   "execution_count": 5,
   "id": "1115427f-3a44-40ac-8c6c-10a31832e2c2",
   "metadata": {},
   "outputs": [],
   "source": [
    "#Aqui va la API"
   ]
  },
  {
   "cell_type": "markdown",
   "id": "5a98aea0-08d3-403b-98a0-d2c13529aa70",
   "metadata": {},
   "source": [
    "## - Prompt\n"
   ]
  },
  {
   "cell_type": "code",
   "execution_count": 23,
   "id": "d1eb3163-940b-4470-b0bc-ad3c88f87c0f",
   "metadata": {},
   "outputs": [],
   "source": [
    "prompt = \"Tienes que ofrecer una representación de la emocion implicita en el mensaje, si generas un texto, hazlo corto, y si creas una imagen, hazla de un rostro humano muy real. Mensaje: persona con ojos y boca muy abiertos\""
   ]
  },
  {
   "cell_type": "markdown",
   "id": "6a8716df-270d-4cd2-9083-b62c81af2e66",
   "metadata": {},
   "source": [
    "### Solicitud texto a texto"
   ]
  },
  {
   "cell_type": "code",
   "execution_count": 24,
   "id": "39a9362e-9cc5-4ebd-8f89-12ace0e2b7d9",
   "metadata": {},
   "outputs": [
    {
     "name": "stdout",
     "output_type": "stream",
     "text": [
      "El mensaje transmite una emoción de sorpresa e incredulidad. La persona se ve abrumada por algo inesperado y su expresión es de asombro, con los ojos y la boca abiertos al máximo. El rostro transmite una mezcla de impresión y confusión, como si no pudiera creer lo que está viendo o escuchando. Es una expresión intensa y cautivadora, que captura\n"
     ]
    }
   ],
   "source": [
    "response = openai.Completion.create(\n",
    "    engine=\"gpt-3.5-turbo-instruct\",  # Modelo de IA a utilizar\n",
    "    prompt=prompt,\n",
    "    max_tokens=100,  # Número máximo de tokens (palabras) para generar\n",
    ")\n",
    "\n",
    "# Imprime el texto generado\n",
    "print(response.choices[0].text.strip())"
   ]
  },
  {
   "cell_type": "markdown",
   "id": "c1f8c256-95c6-4aa0-af30-401c8016f477",
   "metadata": {},
   "source": [
    "### Solicitud texto a imagen"
   ]
  },
  {
   "cell_type": "code",
   "execution_count": 25,
   "id": "d9591159-c4ec-4c82-8aea-6afa25fe1ec5",
   "metadata": {},
   "outputs": [],
   "source": [
    "response2 = openai.Image.create(\n",
    "    prompt=prompt,\n",
    "    n=1,\n",
    "    size=\"512x512\",\n",
    ")"
   ]
  },
  {
   "cell_type": "code",
   "execution_count": 26,
   "id": "d1b03af1-dd9b-46fa-9396-7d8ddf024d68",
   "metadata": {},
   "outputs": [
    {
     "name": "stdout",
     "output_type": "stream",
     "text": [
      "https://oaidalleapiprodscus.blob.core.windows.net/private/org-PcHZ238gXkPu6ncKHJuSeZew/user-zLEu0CuyybMMiAofd1pnAhZd/img-fibt1fgJW791DdHQBoAKODYR.png?st=2024-03-20T23%3A24%3A34Z&se=2024-03-21T01%3A24%3A34Z&sp=r&sv=2021-08-06&sr=b&rscd=inline&rsct=image/png&skoid=6aaadede-4fb3-4698-a8f6-684d7786b067&sktid=a48cca56-e6da-484e-a814-9c849652bcb3&skt=2024-03-20T23%3A18%3A53Z&ske=2024-03-21T23%3A18%3A53Z&sks=b&skv=2021-08-06&sig=CvjCBkaDAaYiF0JcIs3OgvAuW/AKLRqdL43gpCIUiYY%3D\n"
     ]
    }
   ],
   "source": [
    "print(response2[\"data\"][0][\"url\"])"
   ]
  },
  {
   "cell_type": "code",
   "execution_count": null,
   "id": "5aa2b28f-9201-4f6b-ac6c-e2bbd76122fe",
   "metadata": {},
   "outputs": [],
   "source": []
  }
 ],
 "metadata": {
  "kernelspec": {
   "display_name": "Python 3 (ipykernel)",
   "language": "python",
   "name": "python3"
  },
  "language_info": {
   "codemirror_mode": {
    "name": "ipython",
    "version": 3
   },
   "file_extension": ".py",
   "mimetype": "text/x-python",
   "name": "python",
   "nbconvert_exporter": "python",
   "pygments_lexer": "ipython3",
   "version": "3.12.2"
  }
 },
 "nbformat": 4,
 "nbformat_minor": 5
}
